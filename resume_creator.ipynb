{
 "cells": [
  {
   "cell_type": "markdown",
   "metadata": {},
   "source": [
    "# Using LLM to optimize job application\n",
    "Tired of spending countless hours crafting the perfect resume and cover letter for your job applications?  \n",
    "    Resume and cover letter creator from Langchain and OpenAI"
   ]
  },
  {
   "cell_type": "code",
   "execution_count": 1,
   "metadata": {},
   "outputs": [
    {
     "data": {
      "text/plain": [
       "True"
      ]
     },
     "execution_count": 1,
     "metadata": {},
     "output_type": "execute_result"
    }
   ],
   "source": [
    "import os\n",
    "from dotenv import load_dotenv\n",
    "from langchain.llms import OpenAI\n",
    "from langchain.prompts import PromptTemplate\n",
    "from langchain.chains import LLMChain\n",
    "from langchain.chat_models import ChatOpenAI\n",
    "from langchain.prompts.chat import (\n",
    "    ChatPromptTemplate,\n",
    "    SystemMessagePromptTemplate,\n",
    "    AIMessagePromptTemplate,\n",
    "    HumanMessagePromptTemplate,\n",
    ")\n",
    "from langchain.schema import AIMessage, HumanMessage, SystemMessage\n",
    "# Read environment variable\n",
    "load_dotenv()"
   ]
  },
  {
   "cell_type": "markdown",
   "metadata": {},
   "source": [
    "### Load the OpenAI API key"
   ]
  },
  {
   "cell_type": "code",
   "execution_count": 2,
   "metadata": {},
   "outputs": [],
   "source": [
    "OPENAI_API_KEY=os.environ[\"OPENAI_API_KEY\"]\n"
   ]
  },
  {
   "cell_type": "markdown",
   "metadata": {},
   "source": [
    "### Create a prompt template"
   ]
  },
  {
   "cell_type": "code",
   "execution_count": 3,
   "metadata": {},
   "outputs": [],
   "source": [
    "system_template = \"\"\"\n",
    "You are an assistant that helps me optimize my application to a job position. \"\"\"\n",
    "human_template =\"\"\"\n",
    "MY CV\n",
    "Experiences: \n",
    "{experience}\n",
    "Education:\n",
    "{education}\n",
    "\n",
    "THE JOB OFFER\n",
    "{offer}\n",
    "{task}\n",
    " \"\"\"\n"
   ]
  },
  {
   "cell_type": "code",
   "execution_count": 4,
   "metadata": {},
   "outputs": [],
   "source": [
    "chat = ChatOpenAI(temperature=0, openai_api_key=OPENAI_API_KEY)"
   ]
  },
  {
   "cell_type": "code",
   "execution_count": 5,
   "metadata": {},
   "outputs": [],
   "source": [
    "system_message_prompt = SystemMessagePromptTemplate.from_template(system_template)\n",
    "human_message_prompt = HumanMessagePromptTemplate.from_template(human_template)"
   ]
  },
  {
   "cell_type": "code",
   "execution_count": 6,
   "metadata": {},
   "outputs": [],
   "source": [
    "with open(\"experience.txt\", \"r\") as ex:\n",
    "    experience=ex.read()\n",
    "with open(\"education.txt\", \"r\") as ed:\n",
    "    education=ed.read()\n",
    "with open(\"job_offer.txt\", \"r\") as jb:\n",
    "    offer=jb.read()"
   ]
  },
  {
   "cell_type": "code",
   "execution_count": 57,
   "metadata": {},
   "outputs": [],
   "source": [
    "task=\"Write a resume in latex that maximize my chance to be interviewed, highlight my relevant experience\""
   ]
  },
  {
   "cell_type": "code",
   "execution_count": 7,
   "metadata": {},
   "outputs": [],
   "source": [
    "task=\"Write a motivation letter in french that maximize my chance to be interviewed, highlight my relevant experience\""
   ]
  },
  {
   "cell_type": "code",
   "execution_count": 11,
   "metadata": {},
   "outputs": [],
   "source": [
    "task=\"Write an email in french to apply to the job offer by sending my CV and cover letter\""
   ]
  },
  {
   "cell_type": "code",
   "execution_count": 12,
   "metadata": {},
   "outputs": [],
   "source": [
    "chat_prompt = ChatPromptTemplate.from_messages(\n",
    "    [system_message_prompt, human_message_prompt]\n",
    ")\n"
   ]
  },
  {
   "cell_type": "code",
   "execution_count": 13,
   "metadata": {},
   "outputs": [],
   "source": [
    "message=chat(\n",
    "    chat_prompt.format_prompt(\n",
    "        experience=experience, education=education, offer=offer, \n",
    "        task=task\n",
    "    ).to_messages()\n",
    ")"
   ]
  },
  {
   "cell_type": "code",
   "execution_count": 14,
   "metadata": {},
   "outputs": [],
   "source": [
    "with open(\"generated.txt\",\"w\") as generated:\n",
    "    generated.write(message.content)"
   ]
  },
  {
   "cell_type": "code",
   "execution_count": 14,
   "metadata": {},
   "outputs": [
    {
     "name": "stdout",
     "output_type": "stream",
     "text": [
      "Objet: Candidature pour le poste d'Ingénieur biostatisticien\n",
      "\n",
      "Cher Monsieur/Madame,\n",
      "\n",
      "Je vous écris pour postuler au poste d'Ingénieur biostatisticien au sein du Service de Biostatistique-Bioinformatique des Hospices Civils de Lyon. Ayant récemment obtenu mon Master 2 en Sciences, Technologie, Santé avec une spécialisation en Statistique, modélisation et science des données en santé, je suis convaincu que mes compétences et mon expérience correspondent parfaitement aux exigences du poste.\n",
      "\n",
      "Au cours de mon stage en tant que Chercheur stagiaire chez BioSTM, j'ai acquis une solide expérience dans le domaine de la biostatistique et du traitement des données biologiques. J'ai notamment travaillé sur la création d'un modèle de causalité basé sur le Deep Learning, utilisant les variants génétiques comme variables instrumentales. J'ai également développé une bibliothèque Python pour le traitement des données, implémenté un conditional variational autoencoder (CVAE) et comparé différentes méthodes par simulation. J'ai également rédigé un mémoire sous la forme d'un article scientifique.\n",
      "\n",
      "Mon parcours académique, axé sur l'inférence causale, les modèles linéaires généralisés, les modèles de survie et l'apprentissage statistique, m'a permis d'acquérir une solide base de connaissances en statistiques mathématiques et en modélisation statistique. De plus, mes compétences en programmation avec les logiciels statistiques R et SAS me permettent de mener des analyses statistiques sur des données réelles.\n",
      "\n",
      "Je suis également capable de travailler efficacement en équipe multidisciplinaire et de gérer plusieurs projets en parallèle. Je suis rigoureux, organisé et autonome dans mon travail. De plus, je maîtrise l'anglais scientifique, tant à l'oral qu'à l'écrit.\n",
      "\n",
      "Je suis très intéressé par les missions du Service de Biostatistique-Bioinformatique des Hospices Civils de Lyon et je suis convaincu que ma formation et mon expérience me permettront de contribuer de manière significative à vos projets de recherche clinique et épidémiologique.\n",
      "\n",
      "Je vous prie de trouver ci-joint mon CV détaillé ainsi qu'une lettre de motivation dans laquelle j'explique plus en détail ma motivation pour ce poste. Je reste à votre disposition pour toute information complémentaire ou pour convenir d'un entretien.\n",
      "\n",
      "Je vous remercie de l'attention que vous porterez à ma candidature et je vous prie d'agréer, Monsieur/Madame, l'expression de mes salutations distinguées.\n",
      "\n",
      "Cordialement,\n",
      "[Votre nom]\n"
     ]
    }
   ],
   "source": [
    "print(message.content)"
   ]
  }
 ],
 "metadata": {
  "kernelspec": {
   "display_name": "env",
   "language": "python",
   "name": "python3"
  },
  "language_info": {
   "codemirror_mode": {
    "name": "ipython",
    "version": 3
   },
   "file_extension": ".py",
   "mimetype": "text/x-python",
   "name": "python",
   "nbconvert_exporter": "python",
   "pygments_lexer": "ipython3",
   "version": "3.11.5"
  },
  "orig_nbformat": 4
 },
 "nbformat": 4,
 "nbformat_minor": 2
}
