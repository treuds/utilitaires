{
 "cells": [
  {
   "cell_type": "markdown",
   "metadata": {},
   "source": [
    "# Calcul du salaire net en Haiti\n",
    "Calcul du salaire selon la legislation en vigueur en Haiti.  \n",
    "Hypothese:  \n",
    "- Le salaire de la personne est son unique source de revenu  \n",
    "\n",
    "**A utiliser avec precaution, consulter un specialiste en fiscalite pour tous les calculs de votre entreprise.**  \n",
    "_Sources:_  \n",
    "https://cabinetpatricklaurent.com/ou-va-largent-de-nos-taxes/  \n",
    "http://www.mef.gouv.ht/upload/doc/SommairePolFiscale%20(22juillet2014%20RT).pdf  \n",
    "http://dgi.gouv.ht/forms/DROITS%20ET%20TAXES.pdf"
   ]
  },
  {
   "cell_type": "code",
   "execution_count": 65,
   "metadata": {},
   "outputs": [],
   "source": [
    "import pandas as pd"
   ]
  },
  {
   "cell_type": "markdown",
   "metadata": {},
   "source": [
    "## Impot sur le revenu\n",
    "- 0% entre 0 et 60000\n",
    "- 10% de 60 001 à 240 000 gourdes\n",
    "- 15% de 240 001 à 480 000 gourdes\n",
    "- 25% de 480 001 a 1 000 000 gourdes\n",
    "- 30% de 1 000 0001 gourdes a x"
   ]
  },
  {
   "cell_type": "code",
   "execution_count": 66,
   "metadata": {},
   "outputs": [],
   "source": [
    "def calcul_irpp(sal):\n",
    "    sal=float(sal)\n",
    "    pal1=60000\n",
    "    pal2= 240000\n",
    "    pal3=480000\n",
    "    pal4=1000000\n",
    "    i1=pd.Interval(left=0, right=60000)\n",
    "    i2=pd.Interval(left=60000, right=240000)\n",
    "    i3=pd.Interval(left=240000, right=480000)\n",
    "    i4=pd.Interval(left=480000, right=1000000)\n",
    "    tax=0\n",
    "    if sal>pal4:\n",
    "        tax=(sal-pal4)*.30\n",
    "        sal=pal4\n",
    "    dict_={\"0\":i1,\"0.10\":i2,\"0.15\":i3,\"0.25\":i4}\n",
    "    while sal>0:\n",
    "        for x in dict_.keys():\n",
    "            i=dict_[x]\n",
    "            if sal in i:\n",
    "                tax+=(sal-i.left)*float(x)\n",
    "                sal=i.left \n",
    "    return tax"
   ]
  },
  {
   "cell_type": "markdown",
   "metadata": {},
   "source": [
    "## CFGDCT\n",
    "1% sur les salaires mensuels superieurs a 5000Gdes"
   ]
  },
  {
   "cell_type": "code",
   "execution_count": 67,
   "metadata": {},
   "outputs": [],
   "source": [
    "def calcul_cfgdct(sal):\n",
    "    sal=float(sal)\n",
    "    pal=5000\n",
    "    sal_mensuel=sal/12\n",
    "    tax_m=0\n",
    "    if(sal_mensuel>=pal):\n",
    "        tax_m=sal_mensuel*0.01\n",
    "    return tax_m"
   ]
  },
  {
   "cell_type": "markdown",
   "metadata": {},
   "source": [
    "## ONA \n",
    "6% du salaire mensuel"
   ]
  },
  {
   "cell_type": "code",
   "execution_count": 68,
   "metadata": {},
   "outputs": [],
   "source": [
    "def calcul_ona(sal):\n",
    "    sal=float(sal)\n",
    "    sal_mensuel=sal/12\n",
    "    tax=sal_mensuel*.06\n",
    "    return tax"
   ]
  },
  {
   "cell_type": "markdown",
   "metadata": {},
   "source": [
    "## FDU \n",
    "1% du salaire mensuel"
   ]
  },
  {
   "cell_type": "code",
   "execution_count": 69,
   "metadata": {},
   "outputs": [],
   "source": [
    "def calcul_fdu(sal):\n",
    "    sal=float(sal)\n",
    "    sal_mensuel=sal/12\n",
    "    tax=sal_mensuel*.01\n",
    "    return tax"
   ]
  },
  {
   "cell_type": "markdown",
   "metadata": {},
   "source": [
    "## CAS \n",
    "1% du salaire mensuel"
   ]
  },
  {
   "cell_type": "code",
   "execution_count": 70,
   "metadata": {},
   "outputs": [],
   "source": [
    "def calcul_cas(sal):\n",
    "    sal=float(sal)\n",
    "    sal_mensuel=sal/12\n",
    "    tax=sal_mensuel*.01\n",
    "    return tax"
   ]
  },
  {
   "cell_type": "markdown",
   "metadata": {},
   "source": [
    "## Calcul du salaire net"
   ]
  },
  {
   "cell_type": "code",
   "execution_count": 71,
   "metadata": {},
   "outputs": [
    {
     "name": "stdout",
     "output_type": "stream",
     "text": [
      "Entrez le salaire annuel600000\n",
      "Salaire annuel 600000 Taxe annuelle 138000.0\n",
      "Salaire mensuel 50000.0 Taxe mensuelle 11500.0\n"
     ]
    }
   ],
   "source": [
    "sal=input(\"Entrez le salaire annuel\")\n",
    "tax_mensuel=(calcul_irpp(sal)/12)+calcul_cfgdct(sal)+calcul_ona(sal)+calcul_fdu(sal)+calcul_cas(sal)\n",
    "sal_mensuel=float(sal)/12\n",
    "tax_annuel=(calcul_irpp(sal))+calcul_cfgdct(sal)*12+calcul_ona(sal)*12+calcul_fdu(sal)*12+calcul_cas(sal)*12\n",
    "print(\"Salaire annuel\", sal, \"Taxe annuelle\",tax_annuel)\n",
    "print(\"Salaire mensuel\", sal_mensuel, \"Taxe mensuelle\",tax_mensuel)\n"
   ]
  },
  {
   "cell_type": "code",
   "execution_count": null,
   "metadata": {},
   "outputs": [],
   "source": []
  }
 ],
 "metadata": {
  "kernelspec": {
   "display_name": "Python 3",
   "language": "python",
   "name": "python3"
  },
  "language_info": {
   "codemirror_mode": {
    "name": "ipython",
    "version": 3
   },
   "file_extension": ".py",
   "mimetype": "text/x-python",
   "name": "python",
   "nbconvert_exporter": "python",
   "pygments_lexer": "ipython3",
   "version": "3.7.1"
  }
 },
 "nbformat": 4,
 "nbformat_minor": 2
}
